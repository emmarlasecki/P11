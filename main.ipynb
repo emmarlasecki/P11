{
 "cells": [
  {
   "cell_type": "code",
   "execution_count": 22,
   "id": "a2cbd7ba",
   "metadata": {},
   "outputs": [],
   "source": [
    "# project: p11\n",
    "# submitter: erlasecki\n",
    "# partner: none\n",
    "# hours: 7"
   ]
  },
  {
   "cell_type": "code",
   "execution_count": 23,
   "id": "d016279e",
   "metadata": {},
   "outputs": [],
   "source": [
    "import os\n",
    "import csv\n",
    "import json\n",
    "from collections import namedtuple"
   ]
  },
  {
   "cell_type": "code",
   "execution_count": 24,
   "id": "f7ef9b66",
   "metadata": {},
   "outputs": [],
   "source": [
    "import pandas as pd\n",
    "\n",
    "def scatter(x, y, xlabel=\"please label me!\", ylabel=\"please label me!\"):\n",
    "    df = pd.DataFrame({\"x\":x, \"y\":y})\n",
    "    ax = df.plot.scatter(x=\"x\", y=\"y\", color=\"black\", fontsize=16, xlim=0, ylim=0)\n",
    "    ax.set_xlabel(xlabel, fontsize=16)\n",
    "    ax.set_ylabel(ylabel, fontsize=16)\n",
    "    ax.get_xaxis().get_major_formatter().set_scientific(False)\n",
    "    ax.get_yaxis().get_major_formatter().set_scientific(False)"
   ]
  },
  {
   "cell_type": "code",
   "execution_count": 25,
   "id": "6c9a74fc",
   "metadata": {},
   "outputs": [],
   "source": [
    "Tweet = namedtuple(\"Tweet\", [\"tweet_id\", \"username\", \"num_liked\", \"length\"])"
   ]
  },
  {
   "cell_type": "code",
   "execution_count": 26,
   "id": "2518438e",
   "metadata": {},
   "outputs": [],
   "source": [
    "#from p10\n",
    "def get_paths(directory_path, file_type):\n",
    "    files = os.listdir(directory_path)\n",
    "    specific_paths = []\n",
    "    all_paths = []\n",
    "    for i in range(len(files)):\n",
    "        all_paths.append(os.path.join(directory_path, files[i]))\n",
    "    if file_type != None:\n",
    "        for i in range(len(all_paths)):\n",
    "            name, extension = os.path.splitext(all_paths[i])\n",
    "            for j in range(len(file_type)):    \n",
    "                if extension.replace(\".\",\"\") == file_type[j]:\n",
    "                    specific_paths.append(all_paths[i])\n",
    "    return specific_paths"
   ]
  },
  {
   "cell_type": "code",
   "execution_count": 27,
   "id": "24b20ed6",
   "metadata": {},
   "outputs": [],
   "source": [
    "#from p10\n",
    "def find_tweets(directory, file=None):\n",
    "    data_tweets = []\n",
    "    if file == None:\n",
    "        file_path = directory\n",
    "    else:\n",
    "        file_path = os.path.join(directory, file)\n",
    "    name, extension = os.path.splitext(file_path)\n",
    "    f = open(file_path, \"r\")\n",
    "    if extension == \".csv\":\n",
    "        readfile = csv.reader(f, delimiter=\",\")\n",
    "        next(readfile)\n",
    "        for row in readfile:\n",
    "            #print(row)\n",
    "            if len(row) == 6:\n",
    "                tweet_id = row[0]\n",
    "                username = row[2]\n",
    "                num_liked = int(row[3])\n",
    "                length = int(len(row[4]))\n",
    "                data_tweets.append(Tweet(tweet_id, username, num_liked, length))\n",
    "    elif extension == \".json\":\n",
    "        try:\n",
    "            data = json.load(f)\n",
    "        except:\n",
    "            f.close()\n",
    "            return []\n",
    "        for key in data:\n",
    "            #print(key)\n",
    "            tweet_id = key\n",
    "            username = data[key][\"username\"]\n",
    "            length = int(len(data[key][\"tweet_text\"]))\n",
    "            if (data[key][\"num_liked\"] == \"unkown\") or (data[key][\"num_liked\"] == \"unknown\"):\n",
    "                num_liked = 0          \n",
    "            else:\n",
    "                try:\n",
    "                    num_liked = int(data[key][\"num_liked\"])\n",
    "                except ValueError:\n",
    "                    num_liked = data[key][\"num_liked\"]\n",
    "            data_tweets.append(Tweet(tweet_id, username, num_liked, length))\n",
    "    f.close()\n",
    "    return data_tweets"
   ]
  },
  {
   "cell_type": "code",
   "execution_count": 28,
   "id": "08877969",
   "metadata": {},
   "outputs": [],
   "source": [
    "#from p10 NEED TO FIX!!!!!\n",
    "def convert_num_liked(tweet):\n",
    "    try:\n",
    "        int(tweet.num_liked)\n",
    "    except:\n",
    "        if tweet.num_liked == \"unknown\":\n",
    "            return 0\n",
    "        elif \"k\" in tweet.num_liked:\n",
    "            return int(tweet.num_liked.replace(\"k\", \"000\"))\n",
    "        elif \"M\" in tweet.num_liked:\n",
    "            return int(tweet.num_liked.replace(\"M\", \"000000\"))\n",
    "    return int(tweet.num_liked)"
   ]
  },
  {
   "cell_type": "code",
   "execution_count": 29,
   "id": "266d9762",
   "metadata": {},
   "outputs": [
    {
     "data": {
      "text/plain": [
       "445"
      ]
     },
     "execution_count": 29,
     "metadata": {},
     "output_type": "execute_result"
    }
   ],
   "source": [
    "#NEED TO FIND UNIQUE TWEET LENGTHS idk how to access the specific tweet length \n",
    "#Q1:How many unique tweet lengths are present in the dataset?\n",
    "full_data_files = sorted(os.listdir(\"full_data\"), reverse = True)\n",
    "all_tweets = []\n",
    "for i in range(len(full_data_files)):\n",
    "        all_tweets = all_tweets + find_tweets(\"full_data\", full_data_files[i])\n",
    "    \n",
    "len(all_tweets)"
   ]
  },
  {
   "cell_type": "code",
   "execution_count": 30,
   "id": "c7e60a9c",
   "metadata": {},
   "outputs": [
    {
     "data": {
      "text/plain": [
       "['USERID_6',\n",
       " 'USERID_9',\n",
       " 'USERID_7',\n",
       " 'USERID_10',\n",
       " 'USERID_3',\n",
       " 'USERID_5',\n",
       " 'USERID_4',\n",
       " 'USERID_8',\n",
       " 'USERID_1',\n",
       " 'USERID_2']"
      ]
     },
     "execution_count": 30,
     "metadata": {},
     "output_type": "execute_result"
    }
   ],
   "source": [
    "#Q2: Which usernames appear in the dataset?\n",
    "usernames = set()\n",
    "for tweet in all_tweets:\n",
    "    #print(tweet)\n",
    "    usernames.add(tweet.username)\n",
    "list(usernames)"
   ]
  },
  {
   "cell_type": "code",
   "execution_count": 31,
   "id": "27cd9202",
   "metadata": {},
   "outputs": [],
   "source": [
    "def tweets_per_user(number=None):\n",
    "    num_tweets_per_user = {}\n",
    "    for tweet in all_tweets:\n",
    "        count = 0\n",
    "        likes = convert_num_liked(tweet)\n",
    "        if number != None:\n",
    "            for i in range(len(number)): \n",
    "                if number[i] == likes:\n",
    "                    count = 1\n",
    "        if count != 1:\n",
    "            if tweet.username not in num_tweets_per_user:\n",
    "                num_tweets_per_user[tweet.username] = 1\n",
    "            else:\n",
    "                num_tweets_per_user[tweet.username] += 1\n",
    "    return num_tweets_per_user"
   ]
  },
  {
   "cell_type": "code",
   "execution_count": 32,
   "id": "57efb2fe",
   "metadata": {},
   "outputs": [
    {
     "data": {
      "text/plain": [
       "{'USERID_1': 52,\n",
       " 'USERID_7': 55,\n",
       " 'USERID_10': 45,\n",
       " 'USERID_9': 44,\n",
       " 'USERID_4': 35,\n",
       " 'USERID_6': 51,\n",
       " 'USERID_3': 39,\n",
       " 'USERID_2': 47,\n",
       " 'USERID_5': 46,\n",
       " 'USERID_8': 31}"
      ]
     },
     "execution_count": 32,
     "metadata": {},
     "output_type": "execute_result"
    }
   ],
   "source": [
    "#Q3: How prolific is each user?\n",
    "user_tweet_num = tweets_per_user()\n",
    "user_tweet_num"
   ]
  },
  {
   "cell_type": "code",
   "execution_count": 33,
   "id": "9b00828d",
   "metadata": {},
   "outputs": [],
   "source": [
    "def most_likes_per_user(number=None):\n",
    "    most_likes_per_user = {}\n",
    "    for tweet in all_tweets:\n",
    "        count = 0\n",
    "        likes = convert_num_liked(tweet)\n",
    "        if number != None:\n",
    "            for i in range(len(number)): \n",
    "                if number[i] == likes:\n",
    "                    count = 1\n",
    "        if count != 1:\n",
    "            if tweet.username not in most_likes_per_user:\n",
    "                most_likes_per_user[tweet.username] = likes\n",
    "            else:\n",
    "                if most_likes_per_user[tweet.username] < likes:\n",
    "                    most_likes_per_user[tweet.username] = likes\n",
    "    return most_likes_per_user"
   ]
  },
  {
   "cell_type": "code",
   "execution_count": 34,
   "id": "2cc8e3ca",
   "metadata": {},
   "outputs": [
    {
     "data": {
      "text/plain": [
       "{'USERID_1': 150,\n",
       " 'USERID_7': 144,\n",
       " 'USERID_10': 136,\n",
       " 'USERID_9': 137,\n",
       " 'USERID_4': 138,\n",
       " 'USERID_6': 145,\n",
       " 'USERID_3': 138,\n",
       " 'USERID_2': 138,\n",
       " 'USERID_5': 146,\n",
       " 'USERID_8': 145}"
      ]
     },
     "execution_count": 34,
     "metadata": {},
     "output_type": "execute_result"
    }
   ],
   "source": [
    "#Q4: What is the length of the longest tweet for each user?\n",
    "longest_tweet = {}\n",
    "for tweet in all_tweets:\n",
    "    if tweet.username not in longest_tweet:\n",
    "        longest_tweet[tweet.username] = tweet.length\n",
    "    else:\n",
    "        if longest_tweet[tweet.username] < tweet.length:\n",
    "            longest_tweet[tweet.username] = tweet.length\n",
    "longest_tweet"
   ]
  },
  {
   "cell_type": "code",
   "execution_count": 35,
   "id": "c4bb3e09",
   "metadata": {},
   "outputs": [
    {
     "data": {
      "text/plain": [
       "{'USERID_1': 9393,\n",
       " 'USERID_7': 9851,\n",
       " 'USERID_10': 9936,\n",
       " 'USERID_9': 9728,\n",
       " 'USERID_4': 9618,\n",
       " 'USERID_6': 9149,\n",
       " 'USERID_3': 9678,\n",
       " 'USERID_2': 869000000,\n",
       " 'USERID_5': 9608,\n",
       " 'USERID_8': 915000}"
      ]
     },
     "execution_count": 35,
     "metadata": {},
     "output_type": "execute_result"
    }
   ],
   "source": [
    "#Q5: What is the largest number of likes received on a tweet for each user?\n",
    "most_likes = most_likes_per_user()\n",
    "most_likes"
   ]
  },
  {
   "cell_type": "code",
   "execution_count": 36,
   "id": "f69dde90",
   "metadata": {},
   "outputs": [
    {
     "data": {
      "image/png": "[encoded data removed]",
      "text/plain": [
       "<Figure size 432x288 with 1 Axes>"
      ]
     },
     "metadata": {
      "needs_background": "light"
     },
     "output_type": "display_data"
    }
   ],
   "source": [
    "#Q6: What is the relationship between the number of tweets by a user and the length of their longest tweet?\n",
    "scatter(user_tweet_num, longest_tweet, xlabel=\"Number of tweets\", ylabel=\"Longest length\")"
   ]
  },
  {
   "cell_type": "code",
   "execution_count": 37,
   "id": "9344641f",
   "metadata": {},
   "outputs": [
    {
     "data": {
      "image/png": "[encoded data removed]",
      "text/plain": [
       "<Figure size 432x288 with 1 Axes>"
      ]
     },
     "metadata": {
      "needs_background": "light"
     },
     "output_type": "display_data"
    }
   ],
   "source": [
    "#Q7: What is the relationship between the number of tweets and the largest number of likes?\n",
    "scatter(user_tweet_num, most_likes, xlabel=\"Number of tweets\", ylabel=\"Largest likes\")"
   ]
  },
  {
   "cell_type": "code",
   "execution_count": 38,
   "id": "c1123c51",
   "metadata": {},
   "outputs": [
    {
     "data": {
      "image/png": "[encoded data removed]",
      "text/plain": [
       "<Figure size 432x288 with 1 Axes>"
      ]
     },
     "metadata": {
      "needs_background": "light"
     },
     "output_type": "display_data"
    }
   ],
   "source": [
    "#Q8: What is the relationship between the length of their longest tweet and the largest number of likes?\n",
    "scatter(longest_tweet, most_likes, xlabel=\"Longest length\", ylabel=\"Largest likes\")"
   ]
  },
  {
   "cell_type": "code",
   "execution_count": 39,
   "id": "c586b5ab",
   "metadata": {},
   "outputs": [
    {
     "data": {
      "text/plain": [
       "'USERID_2'"
      ]
     },
     "execution_count": 39,
     "metadata": {},
     "output_type": "execute_result"
    }
   ],
   "source": [
    "#Q9: What is the username of the user represented by the outlier in the last two plots?\n",
    "max_likes = 0\n",
    "max_likes_user = None\n",
    "for key in most_likes:\n",
    "    #print(key)\n",
    "    if most_likes[key] > max_likes:\n",
    "        max_likes_user = key\n",
    "        max_likes = most_likes[key]\n",
    "max_likes_user"
   ]
  },
  {
   "cell_type": "code",
   "execution_count": 40,
   "id": "955542c1",
   "metadata": {},
   "outputs": [
    {
     "data": {
      "text/plain": [
       "[Tweet(tweet_id='1467894593', username='USERID_2', num_liked='869M', length=136),\n",
       " Tweet(tweet_id='1467875163', username='USERID_2', num_liked=9891, length=69),\n",
       " Tweet(tweet_id='1467862806', username='USERID_2', num_liked=9465, length=68),\n",
       " Tweet(tweet_id='1467907751', username='USERID_2', num_liked=9048, length=110),\n",
       " Tweet(tweet_id='1467928764', username='USERID_2', num_liked=9026, length=41),\n",
       " Tweet(tweet_id='1467943007', username='USERID_2', num_liked=9000, length=130),\n",
       " Tweet(tweet_id='1467918682', username='USERID_2', num_liked=8884, length=102),\n",
       " Tweet(tweet_id='1467935121', username='USERID_2', num_liked=8740, length=37),\n",
       " Tweet(tweet_id='1467947913', username='USERID_2', num_liked=8578, length=36),\n",
       " Tweet(tweet_id='1467892667', username='USERID_2', num_liked=8270, length=20),\n",
       " Tweet(tweet_id='1467897316', username='USERID_2', num_liked=7890, length=64),\n",
       " Tweet(tweet_id='1467854917', username='USERID_2', num_liked=7741, length=30),\n",
       " Tweet(tweet_id='1467961106', username='USERID_2', num_liked=7552, length=65),\n",
       " Tweet(tweet_id='1467951252', username='USERID_2', num_liked=7515, length=48),\n",
       " Tweet(tweet_id='1467889988', username='USERID_2', num_liked=7394, length=51),\n",
       " Tweet(tweet_id='1467916959', username='USERID_2', num_liked=7081, length=69),\n",
       " Tweet(tweet_id='1467874916', username='USERID_2', num_liked=6935, length=23),\n",
       " Tweet(tweet_id='1467855981', username='USERID_2', num_liked=6455, length=92),\n",
       " Tweet(tweet_id='1467872247', username='USERID_2', num_liked=6316, length=137),\n",
       " Tweet(tweet_id='1467918850', username='USERID_2', num_liked=5383, length=103),\n",
       " Tweet(tweet_id='1467919055', username='USERID_2', num_liked=5370, length=68),\n",
       " Tweet(tweet_id='1467915670', username='USERID_2', num_liked=5287, length=138),\n",
       " Tweet(tweet_id='1467880442', username='USERID_2', num_liked=5125, length=96),\n",
       " Tweet(tweet_id='1467896253', username='USERID_2', num_liked=4906, length=91),\n",
       " Tweet(tweet_id='1467962897', username='USERID_2', num_liked=4898, length=98),\n",
       " Tweet(tweet_id='1467855812', username='USERID_2', num_liked=4806, length=28),\n",
       " Tweet(tweet_id='1467930220', username='USERID_2', num_liked=4770, length=94),\n",
       " Tweet(tweet_id='1467852031', username='USERID_2', num_liked=4565, length=63),\n",
       " Tweet(tweet_id='1467905378', username='USERID_2', num_liked=4420, length=111),\n",
       " Tweet(tweet_id='1467877833', username='USERID_2', num_liked=4270, length=89),\n",
       " Tweet(tweet_id='1467870866', username='USERID_2', num_liked=4166, length=82),\n",
       " Tweet(tweet_id='1467879984', username='USERID_2', num_liked=3694, length=69),\n",
       " Tweet(tweet_id='1467898511', username='USERID_2', num_liked=3477, length=99),\n",
       " Tweet(tweet_id='1467926632', username='USERID_2', num_liked=2602, length=98),\n",
       " Tweet(tweet_id='1467862213', username='USERID_2', num_liked=2455, length=138),\n",
       " Tweet(tweet_id='1467878633', username='USERID_2', num_liked=2351, length=33),\n",
       " Tweet(tweet_id='1467878971', username='USERID_2', num_liked=2238, length=27),\n",
       " Tweet(tweet_id='1467953090', username='USERID_2', num_liked=1896, length=64),\n",
       " Tweet(tweet_id='1467908798', username='USERID_2', num_liked=1659, length=51),\n",
       " Tweet(tweet_id='1467918015', username='USERID_2', num_liked=1508, length=97),\n",
       " Tweet(tweet_id='1467926444', username='USERID_2', num_liked=1394, length=61),\n",
       " Tweet(tweet_id='1467914499', username='USERID_2', num_liked=910, length=138),\n",
       " Tweet(tweet_id='1467968584', username='USERID_2', num_liked=777, length=132),\n",
       " Tweet(tweet_id='1467933102', username='USERID_2', num_liked=625, length=135),\n",
       " Tweet(tweet_id='1467953277', username='USERID_2', num_liked=494, length=31),\n",
       " Tweet(tweet_id='1467890222', username='USERID_2', num_liked=227, length=107),\n",
       " Tweet(tweet_id='1467871956', username='USERID_2', num_liked=110, length=68)]"
      ]
     },
     "execution_count": 40,
     "metadata": {},
     "output_type": "execute_result"
    }
   ],
   "source": [
    "#FIX M IN LIST \n",
    "#Q10: What are the tweets made by that outlier user?\n",
    "max_likes_user_tweets = []\n",
    "for tweet in all_tweets:\n",
    "    if max_likes_user == tweet.username:\n",
    "        max_likes_user_tweets.append(tweet)\n",
    "\n",
    "max_likes_user_tweets.sort(key = convert_num_liked, reverse = True)\n",
    "max_likes_user_tweets"
   ]
  },
  {
   "cell_type": "code",
   "execution_count": 41,
   "id": "84b23ec5",
   "metadata": {},
   "outputs": [
    {
     "data": {
      "text/plain": [
       "5003.565217391304"
      ]
     },
     "execution_count": 41,
     "metadata": {},
     "output_type": "execute_result"
    }
   ],
   "source": [
    "#Q11: After excluding the outlier tweet of this outlier user (found in q10), what is the average of the remaining num_liked values for this user?\n",
    "total_amount = 0\n",
    "count = 0\n",
    "for tweet in max_likes_user_tweets:\n",
    "    #print(tweet)\n",
    "    likes = convert_num_liked(tweet)\n",
    "    if likes == max_likes:\n",
    "        pass\n",
    "    else:\n",
    "        total_amount += likes\n",
    "        count += 1\n",
    "float(total_amount / count)"
   ]
  },
  {
   "cell_type": "code",
   "execution_count": 43,
   "id": "b485bb00",
   "metadata": {},
   "outputs": [
    {
     "data": {
      "image/png": "[encoded data removed]",
      "text/plain": [
       "<Figure size 432x288 with 1 Axes>"
      ]
     },
     "metadata": {
      "needs_background": "light"
     },
     "output_type": "display_data"
    }
   ],
   "source": [
    "#Q12: WRONG If we exclude the top 3 most-liked tweets (among all tweets), what is the relationship between the number of tweets and the largest number of likes?\n",
    "num_tweets_exlude_outlier = tweets_per_user([max_likes])\n",
    "most_liked_exlude_outlier = most_likes_per_user([max_likes])\n",
    "scatter(num_tweets_exlude_outlier, most_liked_exlude_outlier, xlabel=\"Number of tweets\", ylabel=\"Largest likes\")"
   ]
  },
  {
   "cell_type": "code",
   "execution_count": 46,
   "id": "f5b8f350",
   "metadata": {},
   "outputs": [
    {
     "data": {
      "image/png": "[encoded data removed]",
      "text/plain": [
       "<Figure size 432x288 with 1 Axes>"
      ]
     },
     "metadata": {
      "needs_background": "light"
     },
     "output_type": "display_data"
    }
   ],
   "source": [
    "#Q13: WRONG If we exclude the 20 most-liked tweets (among all tweets), what is the relationship between the number of tweets and the largest number of likes?\n",
    "second_max_likes = 0\n",
    "for key in most_liked_exlude_outlier:\n",
    "    if most_liked_exlude_outlier[key] > second_max_likes:\n",
    "        second_max_likes = most_liked_exlude_outlier[key]\n",
    "\n",
    "num_tweets_exlude_two_outliers = tweets_per_user([max_likes, second_max_likes])\n",
    "most_liked_exlude_two_outlier = most_likes_per_user([max_likes, second_max_likes])\n",
    "scatter(num_tweets_exlude_two_outliers, most_liked_exlude_two_outlier, xlabel=\"Number of tweets\", ylabel=\"Largest likes\")"
   ]
  },
  {
   "cell_type": "code",
   "execution_count": 58,
   "id": "ce045a5e",
   "metadata": {},
   "outputs": [],
   "source": [
    "def get_all_paths(path):\n",
    "    files = os.listdir(path)\n",
    "    paths_list = []\n",
    "    for i in range(len(files)):\n",
    "        if files[i].startswith(\".\"):\n",
    "            pass \n",
    "        else:\n",
    "            file = os.path.join(path, files[i])\n",
    "            if os.path.isdir(file):\n",
    "                paths_list += get_all_paths(file)\n",
    "            elif os.path.isfile(file):\n",
    "                paths_list.append(file)\n",
    "    return paths_list"
   ]
  },
  {
   "cell_type": "code",
   "execution_count": 59,
   "id": "04a15dd4",
   "metadata": {},
   "outputs": [
    {
     "data": {
      "text/plain": [
       "['play/rb/rb9/12.xls', 'play/rb/rb9/89.csv', 'play/rb/ppt.ppt']"
      ]
     },
     "execution_count": 59,
     "metadata": {},
     "output_type": "execute_result"
    }
   ],
   "source": [
    "#IN WRONG ORDER \n",
    "#Q14: What are the files in the rb directory of play directory?\n",
    "get_all_paths(os.path.join(\"play\", \"rb\"))"
   ]
  },
  {
   "cell_type": "code",
   "execution_count": 61,
   "id": "3ec02463",
   "metadata": {},
   "outputs": [
    {
     "data": {
      "text/plain": [
       "['play/ls/qwe/usun.pdf', 'play/ls/qwe/iuqwe.json']"
      ]
     },
     "execution_count": 61,
     "metadata": {},
     "output_type": "execute_result"
    }
   ],
   "source": [
    "#IN WRONG ORDER\n",
    "#Q15: What are the files in the qwe directory of ls directory of the play directory?\n",
    "get_all_paths(os.path.join(\"play\", \"ls\", \"qwe\"))"
   ]
  },
  {
   "cell_type": "code",
   "execution_count": 62,
   "id": "1a1ba5de",
   "metadata": {},
   "outputs": [
    {
     "data": {
      "text/plain": [
       "['play/ls/lu.txt',\n",
       " 'play/ls/mf.py',\n",
       " 'play/ls/qwe/usun.pdf',\n",
       " 'play/ls/qwe/iuqwe.json',\n",
       " 'play/ou/quap/aoq/qsonj',\n",
       " 'play/ou/quap/aoq/aqnsa',\n",
       " 'play/ou/quap/uikwe',\n",
       " 'play/ou/quap/qonxu.txt',\n",
       " 'play/ou/a',\n",
       " 'play/ou/v',\n",
       " 'play/ou/b',\n",
       " 'play/rb/rb9/12.xls',\n",
       " 'play/rb/rb9/89.csv',\n",
       " 'play/rb/ppt.ppt']"
      ]
     },
     "execution_count": 62,
     "metadata": {},
     "output_type": "execute_result"
    }
   ],
   "source": [
    "#IN WRONG ORDER\n",
    "#Q16: What are the files in the play directory\n",
    "get_all_paths(\"play\")"
   ]
  },
  {
   "cell_type": "code",
   "execution_count": 63,
   "id": "acc7947b",
   "metadata": {},
   "outputs": [
    {
     "data": {
      "text/plain": [
       "['recursive/others/USERID_5.json',\n",
       " 'recursive/others/USERID_9.json',\n",
       " 'recursive/others/USERID_8.json',\n",
       " 'recursive/others/USERID_7.json',\n",
       " 'recursive/others/USERID_10.json',\n",
       " 'recursive/others/USERID_6.json']"
      ]
     },
     "execution_count": 63,
     "metadata": {},
     "output_type": "execute_result"
    }
   ],
   "source": [
    "#IN WRONG ORDEr\n",
    "#Q17: What are the files in the others directory of the recursive directory?\n",
    "get_all_paths(os.path.join(\"recursive\", \"others\"))"
   ]
  },
  {
   "cell_type": "code",
   "execution_count": 64,
   "id": "783264c1",
   "metadata": {},
   "outputs": [
    {
     "data": {
      "text/plain": [
       "['recursive/others/USERID_5.json',\n",
       " 'recursive/others/USERID_9.json',\n",
       " 'recursive/others/USERID_8.json',\n",
       " 'recursive/others/USERID_7.json',\n",
       " 'recursive/others/USERID_10.json',\n",
       " 'recursive/others/USERID_6.json',\n",
       " 'recursive/USERID_1/tweets.json',\n",
       " 'recursive/USERID_3/tweets.json',\n",
       " 'recursive/USERID_4/1.csv',\n",
       " 'recursive/USERID_4/2.csv',\n",
       " 'recursive/USERID_4/1.json',\n",
       " 'recursive/USERID_4/2.json',\n",
       " 'recursive/USERID_4/true/tweets.json',\n",
       " 'recursive/USERID_4/false/tweets.json',\n",
       " 'recursive/USERID_2/tweets.json']"
      ]
     },
     "execution_count": 64,
     "metadata": {},
     "output_type": "execute_result"
    }
   ],
   "source": [
    "#in wrong order\n",
    "#Q18: What are the files in the recursive directory?\n",
    "get_all_paths(\"recursive\")"
   ]
  },
  {
   "cell_type": "code",
   "execution_count": 66,
   "id": "b0d9d565",
   "metadata": {},
   "outputs": [
    {
     "data": {
      "text/plain": [
       "37"
      ]
     },
     "execution_count": 66,
     "metadata": {},
     "output_type": "execute_result"
    }
   ],
   "source": [
    "#Q19: How many tweets are in the files in the USERID_4 directory of the recursive directory?\n",
    "userid4_files = get_all_paths(os.path.join(\"recursive\", \"USERID_4\"))\n",
    "userid4_list = []\n",
    "for i in range(len(userid4_files)):\n",
    "    userid4_list += (find_tweets(userid4_files[i]))\n",
    "len(userid4_list)"
   ]
  },
  {
   "cell_type": "code",
   "execution_count": 67,
   "id": "d7414e13",
   "metadata": {},
   "outputs": [
    {
     "data": {
      "text/plain": [
       "220"
      ]
     },
     "execution_count": 67,
     "metadata": {},
     "output_type": "execute_result"
    }
   ],
   "source": [
    "#Q20: How many tweets are in the files in the recursive directory?\n",
    "recursive_files = get_all_paths(\"recursive\")\n",
    "recursive_list = []\n",
    "for i in range(len(recursive_files)):\n",
    "    recursive_list += find_tweets(recursive_files[i])\n",
    "len(recursive_list)"
   ]
  },
  {
   "cell_type": "code",
   "execution_count": null,
   "id": "685a9d74",
   "metadata": {},
   "outputs": [],
   "source": []
  },
  {
   "cell_type": "code",
   "execution_count": null,
   "id": "7d46b1ee",
   "metadata": {},
   "outputs": [],
   "source": []
  }
 ],
 "metadata": {
  "kernelspec": {
   "display_name": "Python 3",
   "language": "python",
   "name": "python3"
  },
  "language_info": {
   "codemirror_mode": {
    "name": "ipython",
    "version": 3
   },
   "file_extension": ".py",
   "mimetype": "text/x-python",
   "name": "python",
   "nbconvert_exporter": "python",
   "pygments_lexer": "ipython3",
   "version": "3.8.8"
  }
 },
 "nbformat": 4,
 "nbformat_minor": 5
}
